{
  "nbformat": 4,
  "nbformat_minor": 0,
  "metadata": {
    "colab": {
      "provenance": []
    },
    "kernelspec": {
      "name": "python3",
      "display_name": "Python 3"
    },
    "language_info": {
      "name": "python"
    }
  },
  "cells": [
    {
      "cell_type": "code",
      "execution_count": 33,
      "metadata": {
        "id": "Vr6oJiphmSEQ",
        "colab": {
          "base_uri": "https://localhost:8080/",
          "height": 551
        },
        "outputId": "55b4f75e-6add-433f-8118-aba0a1266c17"
      },
      "outputs": [
        {
          "output_type": "display_data",
          "data": {
            "text/plain": [
              "<Figure size 864x648 with 1 Axes>"
            ],
            "image/png": "[encoded data removed]"
          },
          "metadata": {
            "needs_background": "light"
          }
        }
      ],
      "source": [
        "#Importing the basic libraries that will be required throught the project\n",
        "import pandas as pd\n",
        "import numpy as np\n",
        "import matplotlib.pyplot as plt\n",
        "import seaborn as sns\n",
        "df = pd.read_csv(\"insurance.csv\")\n",
        "\n",
        "df.head(10)\n",
        "df.dtypes\n",
        "\n",
        "tem=pd.get_dummies(df[\"region\"])\n",
        "tem.head(10)\n",
        "df.drop(\"region\",axis=1,inplace=True)\n",
        "df.head(10)\n",
        "map={\"yes\":1,\"no\":0}\n",
        "df[\"smoker\"] = df[\"smoker\"].map(map)\n",
        "map1 = {\"female\":0,\"male\":1}\n",
        "df[\"sex\"]=df[\"sex\"].map(map1)\n",
        "df.head(10)\n",
        "# combinig both data frames\n",
        "df=pd.concat([df,tem],axis=1)\n",
        "df.head(10)\n",
        "#covering categorical variables to numeric\n",
        "x = df[\"smoker\"]\n",
        "y = df[\"charges\"]\n",
        "plt.figure(figsize=(12,9))\n",
        "plt.scatter(x,y)\n",
        "plt.xlabel(\"non smokers vs smoker\")\n",
        "plt.ylabel('charges')\n",
        "Y = df[\"charges\"]\n",
        "X = df.drop(\"charges\",axis=1)\n",
        "X\n",
        "Y\n",
        "\n",
        "from pandas.core.common import random_state\n",
        "from sklearn.model_selection import train_test_split\n",
        "x_train,x_test,y_train,y_test=train_test_split(X,Y,random_state=1,test_size=0.15)\n",
        "\n"
      ]
    },
    {
      "cell_type": "code",
      "source": [
        "from sklearn.linear_model import LinearRegression\n",
        "reg=LinearRegression().fit(x_train,y_train)\n",
        "y_pred=reg.predict(x_test)\n",
        "from sklearn.metrics import r2_score\n",
        "r2_score(y_test,y_pred)"
      ],
      "metadata": {
        "colab": {
          "base_uri": "https://localhost:8080/"
        },
        "id": "bOsrzkQKVKcQ",
        "outputId": "689508f8-5238-423e-e81c-b8bfe475a603"
      },
      "execution_count": 35,
      "outputs": [
        {
          "output_type": "execute_result",
          "data": {
            "text/plain": [
              "0.7444438290908182"
            ]
          },
          "metadata": {},
          "execution_count": 35
        }
      ]
    },
    {
      "cell_type": "code",
      "source": [
        "# storing independent features in a temprorary variable\n",
        "P_X=X"
      ],
      "metadata": {
        "id": "8OmSuS14XjtX"
      },
      "execution_count": 36,
      "outputs": []
    },
    {
      "cell_type": "code",
      "source": [
        "from sklearn.preprocessing import PolynomialFeatures\n",
        "pol=PolynomialFeatures(degree=3)\n",
        "P_X=pol.fit_transform(X)\n",
        "P_X"
      ],
      "metadata": {
        "colab": {
          "base_uri": "https://localhost:8080/"
        },
        "id": "UFxW4DgGX9uk",
        "outputId": "148ca1aa-6243-4846-c4c7-de4d900f02bd"
      },
      "execution_count": 42,
      "outputs": [
        {
          "output_type": "execute_result",
          "data": {
            "text/plain": [
              "array([[ 1., 19.,  0., ...,  0.,  0.,  1.],\n",
              "       [ 1., 18.,  1., ...,  0.,  0.,  0.],\n",
              "       [ 1., 28.,  1., ...,  0.,  0.,  0.],\n",
              "       ...,\n",
              "       [ 1., 18.,  0., ...,  0.,  0.,  0.],\n",
              "       [ 1., 21.,  0., ...,  0.,  0.,  1.],\n",
              "       [ 1., 61.,  0., ...,  0.,  0.,  0.]])"
            ]
          },
          "metadata": {},
          "execution_count": 42
        }
      ]
    },
    {
      "cell_type": "code",
      "source": [
        "#cross validating the model similarly but 3rd  degree polynomial of x this time\n",
        "x_train,x_test,y_train,y_test=train_test_split(P_X,Y,random_state=1,test_size=0.15)\n",
        "reg=LinearRegression().fit(x_train,y_train)\n",
        "y_pred=reg.predict(x_test)"
      ],
      "metadata": {
        "id": "AqfTISQ4ZNMl"
      },
      "execution_count": 45,
      "outputs": []
    },
    {
      "cell_type": "code",
      "source": [
        "r2_score(y_test,y_pred)"
      ],
      "metadata": {
        "colab": {
          "base_uri": "https://localhost:8080/"
        },
        "id": "ca2PSxMAa8I7",
        "outputId": "9097da2c-ce86-42e0-8ca2-b4e7b2ffa4ca"
      },
      "execution_count": 46,
      "outputs": [
        {
          "output_type": "execute_result",
          "data": {
            "text/plain": [
              "0.8421061240324161"
            ]
          },
          "metadata": {},
          "execution_count": 46
        }
      ]
    },
    {
      "cell_type": "code",
      "source": [
        "# cross validating the score to check and avoid overfitting\n",
        "from sklearn.model_selection import cross_val_score\n",
        "c=cross_val_score(reg,P_X,Y,cv=4)\n",
        "c"
      ],
      "metadata": {
        "colab": {
          "base_uri": "https://localhost:8080/"
        },
        "id": "Kh7limfXbJ17",
        "outputId": "1538e9d4-457d-4047-e13a-bb0beabb654f"
      },
      "execution_count": 55,
      "outputs": [
        {
          "output_type": "execute_result",
          "data": {
            "text/plain": [
              "array([0.84846302, 0.79022141, 0.85205271, 0.81596221])"
            ]
          },
          "metadata": {},
          "execution_count": 55
        }
      ]
    },
    {
      "cell_type": "code",
      "source": [
        "# Final Mean Accuracy\n",
        "print(\"Mean accuracy after cross validation is\",c.mean()*100,end=\"%\")"
      ],
      "metadata": {
        "colab": {
          "base_uri": "https://localhost:8080/"
        },
        "id": "F0Wa0W0ObhKR",
        "outputId": "929510c3-91cd-4350-b603-9154f9a05f9d"
      },
      "execution_count": 57,
      "outputs": [
        {
          "output_type": "stream",
          "name": "stdout",
          "text": [
            "Mean accuracy after cross validation is 82.66748374844386%"
          ]
        }
      ]
    },
    {
      "cell_type": "markdown",
      "source": [
        "it is clearly visiable that smookers have  high medical costs(1300-60000+) when compared to non smoker(0-38000)\n"
      ],
      "metadata": {
        "id": "54zSQYtzK5p7"
      }
    }
  ]
}